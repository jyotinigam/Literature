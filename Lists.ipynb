{
  "nbformat": 4,
  "nbformat_minor": 0,
  "metadata": {
    "colab": {
      "provenance": [],
      "authorship_tag": "ABX9TyOBsrl46Hg80+R41Rvit9Gz",
      "include_colab_link": true
    },
    "kernelspec": {
      "name": "python3",
      "display_name": "Python 3"
    },
    "language_info": {
      "name": "python"
    }
  },
  "cells": [
    {
      "cell_type": "markdown",
      "metadata": {
        "id": "view-in-github",
        "colab_type": "text"
      },
      "source": [
        "<a href=\"https://colab.research.google.com/github/jyotinigam/Literature/blob/master/Lists.ipynb\" target=\"_parent\"><img src=\"https://colab.research.google.com/assets/colab-badge.svg\" alt=\"Open In Colab\"/></a>"
      ]
    },
    {
      "cell_type": "code",
      "execution_count": null,
      "metadata": {
        "colab": {
          "base_uri": "https://localhost:8080/"
        },
        "id": "RQpB1k1ZXv1j",
        "outputId": "4a4f41b5-1253-48a5-f3d2-8cff2cfa21a5"
      },
      "outputs": [
        {
          "output_type": "stream",
          "name": "stdout",
          "text": [
            "[]\n",
            "[4, 5, 6, 12, 23, 32, 35, 65]\n"
          ]
        }
      ],
      "source": [
        "l=[23,5,65,12,6,32,4,35]\n",
        "sorted_l=[]\n",
        "while(len(l)>0):\n",
        " min=l[0]\n",
        " for i in range(len(l)):\n",
        "   if(min>l[i]):\n",
        "    min=l[i]\n",
        " sorted_l.append(min)\n",
        " l.remove(min)\n",
        "print(l)\n",
        "print(sorted_l)"
      ]
    },
    {
      "cell_type": "code",
      "source": [
        "l=[23,5,65,12,6,32,4,35]\n",
        "num=int(input(num))\n",
        "flag=0\n",
        "for i in range(len(l)):\n",
        "  print(l[i])\n",
        "  if(num==l[i]):\n",
        "    print(\"found\")\n",
        "    flag=1\n",
        "    break\n",
        "if(flag==0):\n",
        "  print(flag,\"not found\")"
      ],
      "metadata": {
        "id": "kouB9X8_cJHA",
        "colab": {
          "base_uri": "https://localhost:8080/"
        },
        "outputId": "30077f0a-957f-4849-ac42-9a60e334847c"
      },
      "execution_count": null,
      "outputs": [
        {
          "output_type": "stream",
          "name": "stdout",
          "text": [
            "43\n",
            "23\n",
            "5\n",
            "65\n",
            "12\n",
            "6\n",
            "32\n",
            "4\n",
            "35\n",
            "0 not found\n"
          ]
        }
      ]
    },
    {
      "cell_type": "code",
      "source": [
        "ln1=[2,4,5,1,4]\n",
        "ln2=[4,1,6,9]\n",
        "ln1.extend(ln2)\n",
        "r=ln1.index(6)\n",
        "ln2.insert(2,12)\n",
        "ln2.pop()\n",
        "#print(ln1)\n",
        "#print(ln2)\n",
        "ln2.remove(12)\n",
        "ln2.reverse()\n",
        "print(ln2)\n",
        "ln1.sort()\n",
        "print(ln1)\n",
        "print(ln1[- 2])\n",
        "\n"
      ],
      "metadata": {
        "colab": {
          "base_uri": "https://localhost:8080/"
        },
        "id": "vrp00HLh9-nW",
        "outputId": "17b39361-b98f-49cf-e52a-5c2b244fb0ae"
      },
      "execution_count": null,
      "outputs": [
        {
          "output_type": "stream",
          "name": "stdout",
          "text": [
            "[6, 1, 4]\n",
            "[1, 1, 2, 4, 4, 4, 5, 6, 9]\n",
            "6\n"
          ]
        }
      ]
    },
    {
      "cell_type": "code",
      "source": [
        "list1=[]\n",
        "list2=[]\n",
        "list1.append([1,2,3])\n",
        "list1.append([4,5,6])\n",
        "list2.append([7,8,9])\n",
        "list2.append(12)\n",
        "list2.append(32)\n",
        "list2.append(14)\n",
        "list1.append(list2)\n",
        "print(list1)\n",
        "list1[1]"
      ],
      "metadata": {
        "colab": {
          "base_uri": "https://localhost:8080/"
        },
        "id": "5ufgX8_EGBdJ",
        "outputId": "bc3c302b-896e-418d-b79f-2a4ed86a40b8"
      },
      "execution_count": null,
      "outputs": [
        {
          "output_type": "stream",
          "name": "stdout",
          "text": [
            "[[1, 2, 3], [4, 5, 6], [[7, 8, 9], 12, 32, 14]]\n"
          ]
        },
        {
          "output_type": "execute_result",
          "data": {
            "text/plain": [
              "[4, 5, 6]"
            ]
          },
          "metadata": {},
          "execution_count": 39
        }
      ]
    },
    {
      "cell_type": "code",
      "source": [
        "list1=[]\n",
        "list2=[]\n",
        "list1.append([[1,2,3], [12,43,15]])\n",
        "list1.append([[4,5,6], [65,2,43]])\n",
        "list1.append([[7,8,9], [76,4,21]])\n",
        "print(list1)\n",
        "print(len(list1))\n",
        "for i in range(len(list1)):\n",
        "  for j in range(len(list1[i])):\n",
        "    print(len(list1[i]))\n",
        "    for k in range(len(list1[i][j])):\n",
        "      print(\"3D List\",i,list1[i][j][k])"
      ],
      "metadata": {
        "colab": {
          "base_uri": "https://localhost:8080/"
        },
        "id": "2bddN-XmLYTO",
        "outputId": "cd6c6e1d-af7d-45fe-865c-e673a74b74b8"
      },
      "execution_count": null,
      "outputs": [
        {
          "output_type": "stream",
          "name": "stdout",
          "text": [
            "[[[1, 2, 3], [12, 43, 15]], [[4, 5, 6], [65, 2, 43]], [[7, 8, 9], [76, 4, 21]]]\n",
            "3\n",
            "2\n",
            "3D List 0 1\n",
            "3D List 0 2\n",
            "3D List 0 3\n",
            "2\n",
            "3D List 0 12\n",
            "3D List 0 43\n",
            "3D List 0 15\n",
            "2\n",
            "3D List 1 4\n",
            "3D List 1 5\n",
            "3D List 1 6\n",
            "2\n",
            "3D List 1 65\n",
            "3D List 1 2\n",
            "3D List 1 43\n",
            "2\n",
            "3D List 2 7\n",
            "3D List 2 8\n",
            "3D List 2 9\n",
            "2\n",
            "3D List 2 76\n",
            "3D List 2 4\n",
            "3D List 2 21\n"
          ]
        }
      ]
    },
    {
      "cell_type": "code",
      "source": [
        "list_1=[]\n",
        "list_2=[]\n",
        "list_1.append(22)\n",
        "list_1.append(43)\n",
        "list_1.append([1,2,3])\n",
        "list_1.append([4,5,6])\n",
        "list_1.append([7,8,9])\n",
        "list_2.append(12)\n",
        "list_2.append(32)\n",
        "list_1[1:3]\n",
        "list_2.append(list_1)\n",
        "print(list_2)\n",
        "print(list_2[2][2])\n"
      ],
      "metadata": {
        "colab": {
          "base_uri": "https://localhost:8080/"
        },
        "id": "5IgQn0V_VJz3",
        "outputId": "0a40bc2d-ea11-4cbf-81a5-14522584d1c1"
      },
      "execution_count": null,
      "outputs": [
        {
          "output_type": "stream",
          "name": "stdout",
          "text": [
            "[12, 32, [22, 43, [1, 2, 3], [4, 5, 6], [7, 8, 9]]]\n",
            "[1, 2, 3]\n"
          ]
        }
      ]
    },
    {
      "cell_type": "code",
      "source": [
        "l=[]"
      ],
      "metadata": {
        "id": "C0mdk72ZaZMT"
      },
      "execution_count": null,
      "outputs": []
    },
    {
      "cell_type": "code",
      "source": [],
      "metadata": {
        "id": "4ZsPaIfONFnb"
      },
      "execution_count": null,
      "outputs": []
    }
  ]
}